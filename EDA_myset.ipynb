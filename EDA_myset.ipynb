{
 "cells": [
  {
   "attachments": {},
   "cell_type": "markdown",
   "metadata": {},
   "source": [
    "# Exploratory Data Analysis Project Using Python\n",
    "\n",
    "To explore the nuances of EDA for the first time, I selected working with some COVID-19 data sets.\n",
    "\n",
    "This project was guided by [this](https://nbviewer.jupyter.org/github/Tanu-N-Prabhu/Python/blob/master/Exploratory_data_Analysis.ipynb) tutorial.\n",
    "\n",
    "Data for this was downloaded from Kaggle [here](https://www.kaggle.com/datasets/imdevskp/corona-virus-report)"
   ]
  },
  {
   "attachments": {},
   "cell_type": "markdown",
   "metadata": {},
   "source": [
    "## 1. Importing Libraries\n",
    "\n",
    "These are the libraries we'll be using for this project.\n",
    "\n",
    "`Pandas`, `Numpy`, `Seaborn`, and `matplotlib`."
   ]
  },
  {
   "cell_type": "code",
   "execution_count": 3,
   "metadata": {},
   "outputs": [],
   "source": [
    "import pandas as pd\n",
    "import numpy as np\n",
    "import seaborn as sns       #for visualization\n",
    "import matplotlib.pyplot as plt     #for visualization\n",
    "#this command allows us to see ploted data directly in the notebook, not ina separated window (%matplotlib)\n",
    "%matplotlib inline\n",
    "sns.set(color_codes=True)"
   ]
  },
  {
   "attachments": {},
   "cell_type": "markdown",
   "metadata": {},
   "source": [
    "---"
   ]
  },
  {
   "attachments": {},
   "cell_type": "markdown",
   "metadata": {},
   "source": [
    "## 2. Loading CSV File"
   ]
  },
  {
   "cell_type": "code",
   "execution_count": 4,
   "metadata": {},
   "outputs": [
    {
     "data": {
      "text/html": [
       "<div>\n",
       "<style scoped>\n",
       "    .dataframe tbody tr th:only-of-type {\n",
       "        vertical-align: middle;\n",
       "    }\n",
       "\n",
       "    .dataframe tbody tr th {\n",
       "        vertical-align: top;\n",
       "    }\n",
       "\n",
       "    .dataframe thead th {\n",
       "        text-align: right;\n",
       "    }\n",
       "</style>\n",
       "<table border=\"1\" class=\"dataframe\">\n",
       "  <thead>\n",
       "    <tr style=\"text-align: right;\">\n",
       "      <th></th>\n",
       "      <th>Country/Region</th>\n",
       "      <th>Confirmed</th>\n",
       "      <th>Deaths</th>\n",
       "      <th>Recovered</th>\n",
       "      <th>Active</th>\n",
       "      <th>New cases</th>\n",
       "      <th>New deaths</th>\n",
       "      <th>New recovered</th>\n",
       "      <th>Deaths / 100 Cases</th>\n",
       "      <th>Recovered / 100 Cases</th>\n",
       "      <th>Deaths / 100 Recovered</th>\n",
       "      <th>Confirmed last week</th>\n",
       "      <th>1 week change</th>\n",
       "      <th>1 week % increase</th>\n",
       "      <th>WHO Region</th>\n",
       "    </tr>\n",
       "  </thead>\n",
       "  <tbody>\n",
       "    <tr>\n",
       "      <th>0</th>\n",
       "      <td>Afghanistan</td>\n",
       "      <td>36263</td>\n",
       "      <td>1269</td>\n",
       "      <td>25198</td>\n",
       "      <td>9796</td>\n",
       "      <td>106</td>\n",
       "      <td>10</td>\n",
       "      <td>18</td>\n",
       "      <td>3.50</td>\n",
       "      <td>69.49</td>\n",
       "      <td>5.04</td>\n",
       "      <td>35526</td>\n",
       "      <td>737</td>\n",
       "      <td>2.07</td>\n",
       "      <td>Eastern Mediterranean</td>\n",
       "    </tr>\n",
       "    <tr>\n",
       "      <th>1</th>\n",
       "      <td>Albania</td>\n",
       "      <td>4880</td>\n",
       "      <td>144</td>\n",
       "      <td>2745</td>\n",
       "      <td>1991</td>\n",
       "      <td>117</td>\n",
       "      <td>6</td>\n",
       "      <td>63</td>\n",
       "      <td>2.95</td>\n",
       "      <td>56.25</td>\n",
       "      <td>5.25</td>\n",
       "      <td>4171</td>\n",
       "      <td>709</td>\n",
       "      <td>17.00</td>\n",
       "      <td>Europe</td>\n",
       "    </tr>\n",
       "    <tr>\n",
       "      <th>2</th>\n",
       "      <td>Algeria</td>\n",
       "      <td>27973</td>\n",
       "      <td>1163</td>\n",
       "      <td>18837</td>\n",
       "      <td>7973</td>\n",
       "      <td>616</td>\n",
       "      <td>8</td>\n",
       "      <td>749</td>\n",
       "      <td>4.16</td>\n",
       "      <td>67.34</td>\n",
       "      <td>6.17</td>\n",
       "      <td>23691</td>\n",
       "      <td>4282</td>\n",
       "      <td>18.07</td>\n",
       "      <td>Africa</td>\n",
       "    </tr>\n",
       "    <tr>\n",
       "      <th>3</th>\n",
       "      <td>Andorra</td>\n",
       "      <td>907</td>\n",
       "      <td>52</td>\n",
       "      <td>803</td>\n",
       "      <td>52</td>\n",
       "      <td>10</td>\n",
       "      <td>0</td>\n",
       "      <td>0</td>\n",
       "      <td>5.73</td>\n",
       "      <td>88.53</td>\n",
       "      <td>6.48</td>\n",
       "      <td>884</td>\n",
       "      <td>23</td>\n",
       "      <td>2.60</td>\n",
       "      <td>Europe</td>\n",
       "    </tr>\n",
       "    <tr>\n",
       "      <th>4</th>\n",
       "      <td>Angola</td>\n",
       "      <td>950</td>\n",
       "      <td>41</td>\n",
       "      <td>242</td>\n",
       "      <td>667</td>\n",
       "      <td>18</td>\n",
       "      <td>1</td>\n",
       "      <td>0</td>\n",
       "      <td>4.32</td>\n",
       "      <td>25.47</td>\n",
       "      <td>16.94</td>\n",
       "      <td>749</td>\n",
       "      <td>201</td>\n",
       "      <td>26.84</td>\n",
       "      <td>Africa</td>\n",
       "    </tr>\n",
       "  </tbody>\n",
       "</table>\n",
       "</div>"
      ],
      "text/plain": [
       "  Country/Region  Confirmed  Deaths  Recovered  Active  New cases  New deaths  \\\n",
       "0    Afghanistan      36263    1269      25198    9796        106          10   \n",
       "1        Albania       4880     144       2745    1991        117           6   \n",
       "2        Algeria      27973    1163      18837    7973        616           8   \n",
       "3        Andorra        907      52        803      52         10           0   \n",
       "4         Angola        950      41        242     667         18           1   \n",
       "\n",
       "   New recovered  Deaths / 100 Cases  Recovered / 100 Cases  \\\n",
       "0             18                3.50                  69.49   \n",
       "1             63                2.95                  56.25   \n",
       "2            749                4.16                  67.34   \n",
       "3              0                5.73                  88.53   \n",
       "4              0                4.32                  25.47   \n",
       "\n",
       "   Deaths / 100 Recovered  Confirmed last week  1 week change  \\\n",
       "0                    5.04                35526            737   \n",
       "1                    5.25                 4171            709   \n",
       "2                    6.17                23691           4282   \n",
       "3                    6.48                  884             23   \n",
       "4                   16.94                  749            201   \n",
       "\n",
       "   1 week % increase             WHO Region  \n",
       "0               2.07  Eastern Mediterranean  \n",
       "1              17.00                 Europe  \n",
       "2              18.07                 Africa  \n",
       "3               2.60                 Europe  \n",
       "4              26.84                 Africa  "
      ]
     },
     "execution_count": 4,
     "metadata": {},
     "output_type": "execute_result"
    }
   ],
   "source": [
    "data = pd.read_csv(\"country_wise.csv\")\n",
    "#use the comand .head() to display the number of rows in the sample you want\n",
    "data.head(5)"
   ]
  },
  {
   "attachments": {},
   "cell_type": "markdown",
   "metadata": {},
   "source": [
    "---"
   ]
  },
  {
   "cell_type": "code",
   "execution_count": 5,
   "metadata": {},
   "outputs": [
    {
     "data": {
      "text/html": [
       "<div>\n",
       "<style scoped>\n",
       "    .dataframe tbody tr th:only-of-type {\n",
       "        vertical-align: middle;\n",
       "    }\n",
       "\n",
       "    .dataframe tbody tr th {\n",
       "        vertical-align: top;\n",
       "    }\n",
       "\n",
       "    .dataframe thead th {\n",
       "        text-align: right;\n",
       "    }\n",
       "</style>\n",
       "<table border=\"1\" class=\"dataframe\">\n",
       "  <thead>\n",
       "    <tr style=\"text-align: right;\">\n",
       "      <th></th>\n",
       "      <th>Country/Region</th>\n",
       "      <th>Confirmed</th>\n",
       "      <th>Deaths</th>\n",
       "      <th>Recovered</th>\n",
       "      <th>Active</th>\n",
       "      <th>New cases</th>\n",
       "      <th>New deaths</th>\n",
       "      <th>New recovered</th>\n",
       "      <th>Deaths / 100 Cases</th>\n",
       "      <th>Recovered / 100 Cases</th>\n",
       "      <th>Deaths / 100 Recovered</th>\n",
       "      <th>Confirmed last week</th>\n",
       "      <th>1 week change</th>\n",
       "      <th>1 week % increase</th>\n",
       "      <th>WHO Region</th>\n",
       "    </tr>\n",
       "  </thead>\n",
       "  <tbody>\n",
       "    <tr>\n",
       "      <th>177</th>\n",
       "      <td>United Kingdom</td>\n",
       "      <td>301708</td>\n",
       "      <td>45844</td>\n",
       "      <td>1437</td>\n",
       "      <td>254427</td>\n",
       "      <td>688</td>\n",
       "      <td>7</td>\n",
       "      <td>3</td>\n",
       "      <td>15.19</td>\n",
       "      <td>0.48</td>\n",
       "      <td>3190.26</td>\n",
       "      <td>296944</td>\n",
       "      <td>4764</td>\n",
       "      <td>1.60</td>\n",
       "      <td>Europe</td>\n",
       "    </tr>\n",
       "    <tr>\n",
       "      <th>178</th>\n",
       "      <td>Uruguay</td>\n",
       "      <td>1202</td>\n",
       "      <td>35</td>\n",
       "      <td>951</td>\n",
       "      <td>216</td>\n",
       "      <td>10</td>\n",
       "      <td>1</td>\n",
       "      <td>3</td>\n",
       "      <td>2.91</td>\n",
       "      <td>79.12</td>\n",
       "      <td>3.68</td>\n",
       "      <td>1064</td>\n",
       "      <td>138</td>\n",
       "      <td>12.97</td>\n",
       "      <td>Americas</td>\n",
       "    </tr>\n",
       "    <tr>\n",
       "      <th>179</th>\n",
       "      <td>Uzbekistan</td>\n",
       "      <td>21209</td>\n",
       "      <td>121</td>\n",
       "      <td>11674</td>\n",
       "      <td>9414</td>\n",
       "      <td>678</td>\n",
       "      <td>5</td>\n",
       "      <td>569</td>\n",
       "      <td>0.57</td>\n",
       "      <td>55.04</td>\n",
       "      <td>1.04</td>\n",
       "      <td>17149</td>\n",
       "      <td>4060</td>\n",
       "      <td>23.67</td>\n",
       "      <td>Europe</td>\n",
       "    </tr>\n",
       "    <tr>\n",
       "      <th>180</th>\n",
       "      <td>Venezuela</td>\n",
       "      <td>15988</td>\n",
       "      <td>146</td>\n",
       "      <td>9959</td>\n",
       "      <td>5883</td>\n",
       "      <td>525</td>\n",
       "      <td>4</td>\n",
       "      <td>213</td>\n",
       "      <td>0.91</td>\n",
       "      <td>62.29</td>\n",
       "      <td>1.47</td>\n",
       "      <td>12334</td>\n",
       "      <td>3654</td>\n",
       "      <td>29.63</td>\n",
       "      <td>Americas</td>\n",
       "    </tr>\n",
       "    <tr>\n",
       "      <th>181</th>\n",
       "      <td>Vietnam</td>\n",
       "      <td>431</td>\n",
       "      <td>0</td>\n",
       "      <td>365</td>\n",
       "      <td>66</td>\n",
       "      <td>11</td>\n",
       "      <td>0</td>\n",
       "      <td>0</td>\n",
       "      <td>0.00</td>\n",
       "      <td>84.69</td>\n",
       "      <td>0.00</td>\n",
       "      <td>384</td>\n",
       "      <td>47</td>\n",
       "      <td>12.24</td>\n",
       "      <td>Western Pacific</td>\n",
       "    </tr>\n",
       "    <tr>\n",
       "      <th>182</th>\n",
       "      <td>West Bank and Gaza</td>\n",
       "      <td>10621</td>\n",
       "      <td>78</td>\n",
       "      <td>3752</td>\n",
       "      <td>6791</td>\n",
       "      <td>152</td>\n",
       "      <td>2</td>\n",
       "      <td>0</td>\n",
       "      <td>0.73</td>\n",
       "      <td>35.33</td>\n",
       "      <td>2.08</td>\n",
       "      <td>8916</td>\n",
       "      <td>1705</td>\n",
       "      <td>19.12</td>\n",
       "      <td>Eastern Mediterranean</td>\n",
       "    </tr>\n",
       "    <tr>\n",
       "      <th>183</th>\n",
       "      <td>Western Sahara</td>\n",
       "      <td>10</td>\n",
       "      <td>1</td>\n",
       "      <td>8</td>\n",
       "      <td>1</td>\n",
       "      <td>0</td>\n",
       "      <td>0</td>\n",
       "      <td>0</td>\n",
       "      <td>10.00</td>\n",
       "      <td>80.00</td>\n",
       "      <td>12.50</td>\n",
       "      <td>10</td>\n",
       "      <td>0</td>\n",
       "      <td>0.00</td>\n",
       "      <td>Africa</td>\n",
       "    </tr>\n",
       "    <tr>\n",
       "      <th>184</th>\n",
       "      <td>Yemen</td>\n",
       "      <td>1691</td>\n",
       "      <td>483</td>\n",
       "      <td>833</td>\n",
       "      <td>375</td>\n",
       "      <td>10</td>\n",
       "      <td>4</td>\n",
       "      <td>36</td>\n",
       "      <td>28.56</td>\n",
       "      <td>49.26</td>\n",
       "      <td>57.98</td>\n",
       "      <td>1619</td>\n",
       "      <td>72</td>\n",
       "      <td>4.45</td>\n",
       "      <td>Eastern Mediterranean</td>\n",
       "    </tr>\n",
       "    <tr>\n",
       "      <th>185</th>\n",
       "      <td>Zambia</td>\n",
       "      <td>4552</td>\n",
       "      <td>140</td>\n",
       "      <td>2815</td>\n",
       "      <td>1597</td>\n",
       "      <td>71</td>\n",
       "      <td>1</td>\n",
       "      <td>465</td>\n",
       "      <td>3.08</td>\n",
       "      <td>61.84</td>\n",
       "      <td>4.97</td>\n",
       "      <td>3326</td>\n",
       "      <td>1226</td>\n",
       "      <td>36.86</td>\n",
       "      <td>Africa</td>\n",
       "    </tr>\n",
       "    <tr>\n",
       "      <th>186</th>\n",
       "      <td>Zimbabwe</td>\n",
       "      <td>2704</td>\n",
       "      <td>36</td>\n",
       "      <td>542</td>\n",
       "      <td>2126</td>\n",
       "      <td>192</td>\n",
       "      <td>2</td>\n",
       "      <td>24</td>\n",
       "      <td>1.33</td>\n",
       "      <td>20.04</td>\n",
       "      <td>6.64</td>\n",
       "      <td>1713</td>\n",
       "      <td>991</td>\n",
       "      <td>57.85</td>\n",
       "      <td>Africa</td>\n",
       "    </tr>\n",
       "  </tbody>\n",
       "</table>\n",
       "</div>"
      ],
      "text/plain": [
       "         Country/Region  Confirmed  Deaths  Recovered  Active  New cases  \\\n",
       "177      United Kingdom     301708   45844       1437  254427        688   \n",
       "178             Uruguay       1202      35        951     216         10   \n",
       "179          Uzbekistan      21209     121      11674    9414        678   \n",
       "180           Venezuela      15988     146       9959    5883        525   \n",
       "181             Vietnam        431       0        365      66         11   \n",
       "182  West Bank and Gaza      10621      78       3752    6791        152   \n",
       "183      Western Sahara         10       1          8       1          0   \n",
       "184               Yemen       1691     483        833     375         10   \n",
       "185              Zambia       4552     140       2815    1597         71   \n",
       "186            Zimbabwe       2704      36        542    2126        192   \n",
       "\n",
       "     New deaths  New recovered  Deaths / 100 Cases  Recovered / 100 Cases  \\\n",
       "177           7              3               15.19                   0.48   \n",
       "178           1              3                2.91                  79.12   \n",
       "179           5            569                0.57                  55.04   \n",
       "180           4            213                0.91                  62.29   \n",
       "181           0              0                0.00                  84.69   \n",
       "182           2              0                0.73                  35.33   \n",
       "183           0              0               10.00                  80.00   \n",
       "184           4             36               28.56                  49.26   \n",
       "185           1            465                3.08                  61.84   \n",
       "186           2             24                1.33                  20.04   \n",
       "\n",
       "     Deaths / 100 Recovered  Confirmed last week  1 week change  \\\n",
       "177                 3190.26               296944           4764   \n",
       "178                    3.68                 1064            138   \n",
       "179                    1.04                17149           4060   \n",
       "180                    1.47                12334           3654   \n",
       "181                    0.00                  384             47   \n",
       "182                    2.08                 8916           1705   \n",
       "183                   12.50                   10              0   \n",
       "184                   57.98                 1619             72   \n",
       "185                    4.97                 3326           1226   \n",
       "186                    6.64                 1713            991   \n",
       "\n",
       "     1 week % increase             WHO Region  \n",
       "177               1.60                 Europe  \n",
       "178              12.97               Americas  \n",
       "179              23.67                 Europe  \n",
       "180              29.63               Americas  \n",
       "181              12.24        Western Pacific  \n",
       "182              19.12  Eastern Mediterranean  \n",
       "183               0.00                 Africa  \n",
       "184               4.45  Eastern Mediterranean  \n",
       "185              36.86                 Africa  \n",
       "186              57.85                 Africa  "
      ]
     },
     "execution_count": 5,
     "metadata": {},
     "output_type": "execute_result"
    }
   ],
   "source": [
    "#the command .tail() will display the bottom of the file\n",
    "data.tail(10)"
   ]
  },
  {
   "attachments": {},
   "cell_type": "markdown",
   "metadata": {},
   "source": [
    "---"
   ]
  },
  {
   "attachments": {},
   "cell_type": "markdown",
   "metadata": {},
   "source": [
    "## 3. Checking the types of data"
   ]
  },
  {
   "cell_type": "code",
   "execution_count": 6,
   "metadata": {},
   "outputs": [
    {
     "data": {
      "text/plain": [
       "Country/Region             object\n",
       "Confirmed                   int64\n",
       "Deaths                      int64\n",
       "Recovered                   int64\n",
       "Active                      int64\n",
       "New cases                   int64\n",
       "New deaths                  int64\n",
       "New recovered               int64\n",
       "Deaths / 100 Cases        float64\n",
       "Recovered / 100 Cases     float64\n",
       "Deaths / 100 Recovered    float64\n",
       "Confirmed last week         int64\n",
       "1 week change               int64\n",
       "1 week % increase         float64\n",
       "WHO Region                 object\n",
       "dtype: object"
      ]
     },
     "execution_count": 6,
     "metadata": {},
     "output_type": "execute_result"
    }
   ],
   "source": [
    "data.dtypes #to check the type of data in your set, you can use this command"
   ]
  },
  {
   "attachments": {},
   "cell_type": "markdown",
   "metadata": {},
   "source": [
    "---"
   ]
  },
  {
   "attachments": {},
   "cell_type": "markdown",
   "metadata": {},
   "source": [
    "## 4. Dropping columns\n",
    "\n",
    "As part of this study and to be more didactic, we'll eliminate some columns only with educational purpose."
   ]
  },
  {
   "cell_type": "code",
   "execution_count": 7,
   "metadata": {},
   "outputs": [
    {
     "data": {
      "text/html": [
       "<div>\n",
       "<style scoped>\n",
       "    .dataframe tbody tr th:only-of-type {\n",
       "        vertical-align: middle;\n",
       "    }\n",
       "\n",
       "    .dataframe tbody tr th {\n",
       "        vertical-align: top;\n",
       "    }\n",
       "\n",
       "    .dataframe thead th {\n",
       "        text-align: right;\n",
       "    }\n",
       "</style>\n",
       "<table border=\"1\" class=\"dataframe\">\n",
       "  <thead>\n",
       "    <tr style=\"text-align: right;\">\n",
       "      <th></th>\n",
       "      <th>Country/Region</th>\n",
       "      <th>Confirmed</th>\n",
       "      <th>Deaths</th>\n",
       "      <th>Recovered</th>\n",
       "      <th>Active</th>\n",
       "      <th>New cases</th>\n",
       "      <th>New deaths</th>\n",
       "      <th>New recovered</th>\n",
       "      <th>Deaths / 100 Cases</th>\n",
       "      <th>Recovered / 100 Cases</th>\n",
       "      <th>Deaths / 100 Recovered</th>\n",
       "    </tr>\n",
       "  </thead>\n",
       "  <tbody>\n",
       "    <tr>\n",
       "      <th>0</th>\n",
       "      <td>Afghanistan</td>\n",
       "      <td>36263</td>\n",
       "      <td>1269</td>\n",
       "      <td>25198</td>\n",
       "      <td>9796</td>\n",
       "      <td>106</td>\n",
       "      <td>10</td>\n",
       "      <td>18</td>\n",
       "      <td>3.50</td>\n",
       "      <td>69.49</td>\n",
       "      <td>5.04</td>\n",
       "    </tr>\n",
       "    <tr>\n",
       "      <th>1</th>\n",
       "      <td>Albania</td>\n",
       "      <td>4880</td>\n",
       "      <td>144</td>\n",
       "      <td>2745</td>\n",
       "      <td>1991</td>\n",
       "      <td>117</td>\n",
       "      <td>6</td>\n",
       "      <td>63</td>\n",
       "      <td>2.95</td>\n",
       "      <td>56.25</td>\n",
       "      <td>5.25</td>\n",
       "    </tr>\n",
       "    <tr>\n",
       "      <th>2</th>\n",
       "      <td>Algeria</td>\n",
       "      <td>27973</td>\n",
       "      <td>1163</td>\n",
       "      <td>18837</td>\n",
       "      <td>7973</td>\n",
       "      <td>616</td>\n",
       "      <td>8</td>\n",
       "      <td>749</td>\n",
       "      <td>4.16</td>\n",
       "      <td>67.34</td>\n",
       "      <td>6.17</td>\n",
       "    </tr>\n",
       "    <tr>\n",
       "      <th>3</th>\n",
       "      <td>Andorra</td>\n",
       "      <td>907</td>\n",
       "      <td>52</td>\n",
       "      <td>803</td>\n",
       "      <td>52</td>\n",
       "      <td>10</td>\n",
       "      <td>0</td>\n",
       "      <td>0</td>\n",
       "      <td>5.73</td>\n",
       "      <td>88.53</td>\n",
       "      <td>6.48</td>\n",
       "    </tr>\n",
       "    <tr>\n",
       "      <th>4</th>\n",
       "      <td>Angola</td>\n",
       "      <td>950</td>\n",
       "      <td>41</td>\n",
       "      <td>242</td>\n",
       "      <td>667</td>\n",
       "      <td>18</td>\n",
       "      <td>1</td>\n",
       "      <td>0</td>\n",
       "      <td>4.32</td>\n",
       "      <td>25.47</td>\n",
       "      <td>16.94</td>\n",
       "    </tr>\n",
       "  </tbody>\n",
       "</table>\n",
       "</div>"
      ],
      "text/plain": [
       "  Country/Region  Confirmed  Deaths  Recovered  Active  New cases  New deaths  \\\n",
       "0    Afghanistan      36263    1269      25198    9796        106          10   \n",
       "1        Albania       4880     144       2745    1991        117           6   \n",
       "2        Algeria      27973    1163      18837    7973        616           8   \n",
       "3        Andorra        907      52        803      52         10           0   \n",
       "4         Angola        950      41        242     667         18           1   \n",
       "\n",
       "   New recovered  Deaths / 100 Cases  Recovered / 100 Cases  \\\n",
       "0             18                3.50                  69.49   \n",
       "1             63                2.95                  56.25   \n",
       "2            749                4.16                  67.34   \n",
       "3              0                5.73                  88.53   \n",
       "4              0                4.32                  25.47   \n",
       "\n",
       "   Deaths / 100 Recovered  \n",
       "0                    5.04  \n",
       "1                    5.25  \n",
       "2                    6.17  \n",
       "3                    6.48  \n",
       "4                   16.94  "
      ]
     },
     "execution_count": 7,
     "metadata": {},
     "output_type": "execute_result"
    }
   ],
   "source": [
    "data = data.drop(columns=['1 week change', '1 week % increase', 'Confirmed last week', 'WHO Region'])\n",
    "# we can also drop cloumns by mentioning the axis=1 in the command, data = data.drop([col1, col,2, ...], axis=1)\n",
    "data.head(5)"
   ]
  },
  {
   "attachments": {},
   "cell_type": "markdown",
   "metadata": {},
   "source": [
    "---"
   ]
  },
  {
   "attachments": {},
   "cell_type": "markdown",
   "metadata": {},
   "source": [
    "## 5. Rename columns comand\n",
    "\n",
    "To rename a column and make it shorter or easier to understand, we can use the `.rename(columns={\"name\":\"rename\", ...}) command.\n",
    "\n",
    "In this example let's rename the columns to make them more readable."
   ]
  },
  {
   "cell_type": "code",
   "execution_count": 8,
   "metadata": {},
   "outputs": [
    {
     "data": {
      "text/html": [
       "<div>\n",
       "<style scoped>\n",
       "    .dataframe tbody tr th:only-of-type {\n",
       "        vertical-align: middle;\n",
       "    }\n",
       "\n",
       "    .dataframe tbody tr th {\n",
       "        vertical-align: top;\n",
       "    }\n",
       "\n",
       "    .dataframe thead th {\n",
       "        text-align: right;\n",
       "    }\n",
       "</style>\n",
       "<table border=\"1\" class=\"dataframe\">\n",
       "  <thead>\n",
       "    <tr style=\"text-align: right;\">\n",
       "      <th></th>\n",
       "      <th>Country/Region</th>\n",
       "      <th>Confirmed</th>\n",
       "      <th>Deaths</th>\n",
       "      <th>Recovered</th>\n",
       "      <th>Active</th>\n",
       "      <th>New cases</th>\n",
       "      <th>New deaths</th>\n",
       "      <th>New recovered</th>\n",
       "      <th>DeathPer100</th>\n",
       "      <th>Recovered/100</th>\n",
       "      <th>Deaths / 100 Recovered</th>\n",
       "    </tr>\n",
       "  </thead>\n",
       "  <tbody>\n",
       "    <tr>\n",
       "      <th>0</th>\n",
       "      <td>Afghanistan</td>\n",
       "      <td>36263</td>\n",
       "      <td>1269</td>\n",
       "      <td>25198</td>\n",
       "      <td>9796</td>\n",
       "      <td>106</td>\n",
       "      <td>10</td>\n",
       "      <td>18</td>\n",
       "      <td>3.50</td>\n",
       "      <td>69.49</td>\n",
       "      <td>5.04</td>\n",
       "    </tr>\n",
       "    <tr>\n",
       "      <th>1</th>\n",
       "      <td>Albania</td>\n",
       "      <td>4880</td>\n",
       "      <td>144</td>\n",
       "      <td>2745</td>\n",
       "      <td>1991</td>\n",
       "      <td>117</td>\n",
       "      <td>6</td>\n",
       "      <td>63</td>\n",
       "      <td>2.95</td>\n",
       "      <td>56.25</td>\n",
       "      <td>5.25</td>\n",
       "    </tr>\n",
       "    <tr>\n",
       "      <th>2</th>\n",
       "      <td>Algeria</td>\n",
       "      <td>27973</td>\n",
       "      <td>1163</td>\n",
       "      <td>18837</td>\n",
       "      <td>7973</td>\n",
       "      <td>616</td>\n",
       "      <td>8</td>\n",
       "      <td>749</td>\n",
       "      <td>4.16</td>\n",
       "      <td>67.34</td>\n",
       "      <td>6.17</td>\n",
       "    </tr>\n",
       "    <tr>\n",
       "      <th>3</th>\n",
       "      <td>Andorra</td>\n",
       "      <td>907</td>\n",
       "      <td>52</td>\n",
       "      <td>803</td>\n",
       "      <td>52</td>\n",
       "      <td>10</td>\n",
       "      <td>0</td>\n",
       "      <td>0</td>\n",
       "      <td>5.73</td>\n",
       "      <td>88.53</td>\n",
       "      <td>6.48</td>\n",
       "    </tr>\n",
       "  </tbody>\n",
       "</table>\n",
       "</div>"
      ],
      "text/plain": [
       "  Country/Region  Confirmed  Deaths  Recovered  Active  New cases  New deaths  \\\n",
       "0    Afghanistan      36263    1269      25198    9796        106          10   \n",
       "1        Albania       4880     144       2745    1991        117           6   \n",
       "2        Algeria      27973    1163      18837    7973        616           8   \n",
       "3        Andorra        907      52        803      52         10           0   \n",
       "\n",
       "   New recovered  DeathPer100  Recovered/100  Deaths / 100 Recovered  \n",
       "0             18         3.50          69.49                    5.04  \n",
       "1             63         2.95          56.25                    5.25  \n",
       "2            749         4.16          67.34                    6.17  \n",
       "3              0         5.73          88.53                    6.48  "
      ]
     },
     "execution_count": 8,
     "metadata": {},
     "output_type": "execute_result"
    }
   ],
   "source": [
    "data = data.rename(columns={\"Deaths / 100 Cases\": \"DeathPer100\", \"Recovered / 100 Cases\": \"Recovered/100\" })\n",
    "data.head(4)"
   ]
  },
  {
   "attachments": {},
   "cell_type": "markdown",
   "metadata": {},
   "source": [
    "---"
   ]
  },
  {
   "attachments": {},
   "cell_type": "markdown",
   "metadata": {},
   "source": [
    "## 6. Dropping duplicated rows\n",
    "\n",
    "Part of the data cleaning in the EDA is removing duplicated data that could often damage the results or reports.\n",
    "\n",
    "First, let's check how many rows we have (and columns) by using the shape command."
   ]
  },
  {
   "cell_type": "code",
   "execution_count": 9,
   "metadata": {},
   "outputs": [
    {
     "data": {
      "text/plain": [
       "(187, 11)"
      ]
     },
     "execution_count": 9,
     "metadata": {},
     "output_type": "execute_result"
    }
   ],
   "source": [
    "data.shape"
   ]
  },
  {
   "attachments": {},
   "cell_type": "markdown",
   "metadata": {},
   "source": [
    "We can see it has few rows and columns.\n",
    "\n",
    "Let's clean it to see if ther is any duplicate rows and if numbers will change."
   ]
  },
  {
   "cell_type": "code",
   "execution_count": 10,
   "metadata": {},
   "outputs": [
    {
     "name": "stdout",
     "output_type": "stream",
     "text": [
      "rows duplicated:  (0, 11)\n"
     ]
    }
   ],
   "source": [
    "duplicate_rows_data = data[data.duplicated()]\n",
    "print(\"rows duplicated: \",duplicate_rows_data.shape) #.shape to show the result in rows, columns"
   ]
  },
  {
   "attachments": {},
   "cell_type": "markdown",
   "metadata": {},
   "source": [
    "It did not find any duplicates, however, if we were to remove them, the commands are:"
   ]
  },
  {
   "cell_type": "code",
   "execution_count": 11,
   "metadata": {},
   "outputs": [
    {
     "data": {
      "text/plain": [
       "Country/Region            187\n",
       "Confirmed                 187\n",
       "Deaths                    187\n",
       "Recovered                 187\n",
       "Active                    187\n",
       "New cases                 187\n",
       "New deaths                187\n",
       "New recovered             187\n",
       "DeathPer100               187\n",
       "Recovered/100             187\n",
       "Deaths / 100 Recovered    187\n",
       "dtype: int64"
      ]
     },
     "execution_count": 11,
     "metadata": {},
     "output_type": "execute_result"
    }
   ],
   "source": [
    "data.count() #to check how many rows we have in each column"
   ]
  },
  {
   "cell_type": "code",
   "execution_count": 12,
   "metadata": {},
   "outputs": [
    {
     "data": {
      "text/html": [
       "<div>\n",
       "<style scoped>\n",
       "    .dataframe tbody tr th:only-of-type {\n",
       "        vertical-align: middle;\n",
       "    }\n",
       "\n",
       "    .dataframe tbody tr th {\n",
       "        vertical-align: top;\n",
       "    }\n",
       "\n",
       "    .dataframe thead th {\n",
       "        text-align: right;\n",
       "    }\n",
       "</style>\n",
       "<table border=\"1\" class=\"dataframe\">\n",
       "  <thead>\n",
       "    <tr style=\"text-align: right;\">\n",
       "      <th></th>\n",
       "      <th>Country/Region</th>\n",
       "      <th>Confirmed</th>\n",
       "      <th>Deaths</th>\n",
       "      <th>Recovered</th>\n",
       "      <th>Active</th>\n",
       "      <th>New cases</th>\n",
       "      <th>New deaths</th>\n",
       "      <th>New recovered</th>\n",
       "      <th>DeathPer100</th>\n",
       "      <th>Recovered/100</th>\n",
       "      <th>Deaths / 100 Recovered</th>\n",
       "    </tr>\n",
       "  </thead>\n",
       "  <tbody>\n",
       "    <tr>\n",
       "      <th>0</th>\n",
       "      <td>Afghanistan</td>\n",
       "      <td>36263</td>\n",
       "      <td>1269</td>\n",
       "      <td>25198</td>\n",
       "      <td>9796</td>\n",
       "      <td>106</td>\n",
       "      <td>10</td>\n",
       "      <td>18</td>\n",
       "      <td>3.50</td>\n",
       "      <td>69.49</td>\n",
       "      <td>5.04</td>\n",
       "    </tr>\n",
       "    <tr>\n",
       "      <th>1</th>\n",
       "      <td>Albania</td>\n",
       "      <td>4880</td>\n",
       "      <td>144</td>\n",
       "      <td>2745</td>\n",
       "      <td>1991</td>\n",
       "      <td>117</td>\n",
       "      <td>6</td>\n",
       "      <td>63</td>\n",
       "      <td>2.95</td>\n",
       "      <td>56.25</td>\n",
       "      <td>5.25</td>\n",
       "    </tr>\n",
       "    <tr>\n",
       "      <th>2</th>\n",
       "      <td>Algeria</td>\n",
       "      <td>27973</td>\n",
       "      <td>1163</td>\n",
       "      <td>18837</td>\n",
       "      <td>7973</td>\n",
       "      <td>616</td>\n",
       "      <td>8</td>\n",
       "      <td>749</td>\n",
       "      <td>4.16</td>\n",
       "      <td>67.34</td>\n",
       "      <td>6.17</td>\n",
       "    </tr>\n",
       "    <tr>\n",
       "      <th>3</th>\n",
       "      <td>Andorra</td>\n",
       "      <td>907</td>\n",
       "      <td>52</td>\n",
       "      <td>803</td>\n",
       "      <td>52</td>\n",
       "      <td>10</td>\n",
       "      <td>0</td>\n",
       "      <td>0</td>\n",
       "      <td>5.73</td>\n",
       "      <td>88.53</td>\n",
       "      <td>6.48</td>\n",
       "    </tr>\n",
       "    <tr>\n",
       "      <th>4</th>\n",
       "      <td>Angola</td>\n",
       "      <td>950</td>\n",
       "      <td>41</td>\n",
       "      <td>242</td>\n",
       "      <td>667</td>\n",
       "      <td>18</td>\n",
       "      <td>1</td>\n",
       "      <td>0</td>\n",
       "      <td>4.32</td>\n",
       "      <td>25.47</td>\n",
       "      <td>16.94</td>\n",
       "    </tr>\n",
       "  </tbody>\n",
       "</table>\n",
       "</div>"
      ],
      "text/plain": [
       "  Country/Region  Confirmed  Deaths  Recovered  Active  New cases  New deaths  \\\n",
       "0    Afghanistan      36263    1269      25198    9796        106          10   \n",
       "1        Albania       4880     144       2745    1991        117           6   \n",
       "2        Algeria      27973    1163      18837    7973        616           8   \n",
       "3        Andorra        907      52        803      52         10           0   \n",
       "4         Angola        950      41        242     667         18           1   \n",
       "\n",
       "   New recovered  DeathPer100  Recovered/100  Deaths / 100 Recovered  \n",
       "0             18         3.50          69.49                    5.04  \n",
       "1             63         2.95          56.25                    5.25  \n",
       "2            749         4.16          67.34                    6.17  \n",
       "3              0         5.73          88.53                    6.48  \n",
       "4              0         4.32          25.47                   16.94  "
      ]
     },
     "execution_count": 12,
     "metadata": {},
     "output_type": "execute_result"
    }
   ],
   "source": [
    "data = data.drop_duplicates() #deleting duplicates command\n",
    "data.head(5)"
   ]
  },
  {
   "cell_type": "code",
   "execution_count": 13,
   "metadata": {},
   "outputs": [
    {
     "data": {
      "text/plain": [
       "Country/Region            187\n",
       "Confirmed                 187\n",
       "Deaths                    187\n",
       "Recovered                 187\n",
       "Active                    187\n",
       "New cases                 187\n",
       "New deaths                187\n",
       "New recovered             187\n",
       "DeathPer100               187\n",
       "Recovered/100             187\n",
       "Deaths / 100 Recovered    187\n",
       "dtype: int64"
      ]
     },
     "execution_count": 13,
     "metadata": {},
     "output_type": "execute_result"
    }
   ],
   "source": [
    "#let's count again\n",
    "data.count()"
   ]
  },
  {
   "attachments": {},
   "cell_type": "markdown",
   "metadata": {},
   "source": [
    "As we can see, the duplicates were removing, leaving 93084 unique rows."
   ]
  },
  {
   "attachments": {},
   "cell_type": "markdown",
   "metadata": {},
   "source": [
    "---"
   ]
  },
  {
   "attachments": {},
   "cell_type": "markdown",
   "metadata": {},
   "source": [
    "## 7. Dropping the missing or null values"
   ]
  },
  {
   "attachments": {},
   "cell_type": "markdown",
   "metadata": {},
   "source": [
    "Very simmilar to the last step, however, it will drop null or N/A. This is not the most indicated way when dealing with big data sets as people tent to replace missing that with other things like zeros, dots or other entries.\n",
    "\n",
    "For educational purpouse, let's have a look at it."
   ]
  },
  {
   "cell_type": "code",
   "execution_count": 14,
   "metadata": {},
   "outputs": [
    {
     "name": "stdout",
     "output_type": "stream",
     "text": [
      "Country/Region            0\n",
      "Confirmed                 0\n",
      "Deaths                    0\n",
      "Recovered                 0\n",
      "Active                    0\n",
      "New cases                 0\n",
      "New deaths                0\n",
      "New recovered             0\n",
      "DeathPer100               0\n",
      "Recovered/100             0\n",
      "Deaths / 100 Recovered    0\n",
      "dtype: int64\n"
     ]
    }
   ],
   "source": [
    "print(data.isnull().sum())"
   ]
  },
  {
   "attachments": {},
   "cell_type": "markdown",
   "metadata": {},
   "source": [
    "In this case, there are no null or N/A value.\n",
    "If we had any, the command would be most similar to step 6.\n",
    "\n",
    "Let's run it and check."
   ]
  },
  {
   "cell_type": "code",
   "execution_count": 15,
   "metadata": {},
   "outputs": [
    {
     "data": {
      "text/plain": [
       "Country/Region            187\n",
       "Confirmed                 187\n",
       "Deaths                    187\n",
       "Recovered                 187\n",
       "Active                    187\n",
       "New cases                 187\n",
       "New deaths                187\n",
       "New recovered             187\n",
       "DeathPer100               187\n",
       "Recovered/100             187\n",
       "Deaths / 100 Recovered    187\n",
       "dtype: int64"
      ]
     },
     "execution_count": 15,
     "metadata": {},
     "output_type": "execute_result"
    }
   ],
   "source": [
    "data = data.dropna()\n",
    "data.count()"
   ]
  },
  {
   "attachments": {},
   "cell_type": "markdown",
   "metadata": {},
   "source": [
    "As the data did not have any null or N/A entries, nothing changed as we can see."
   ]
  },
  {
   "attachments": {},
   "cell_type": "markdown",
   "metadata": {},
   "source": [
    "---"
   ]
  },
  {
   "attachments": {},
   "cell_type": "markdown",
   "metadata": {},
   "source": [
    "## 8. Detecting Outliers\n",
    "\n",
    "An outlier (out of the curve) is a point or set of points that are different from other points. Sometimes they can be very high or very low. It's often a good idea to detect and remove the outliers. Because outliers are one of the primary reasons for resulting in a less accurate model.\n",
    "\n",
    "It is a good practice to remove these values.\n",
    "\n",
    "To do so, we'll use the IQR technique (detection and remove).\n",
    "\n",
    "To visualize, we can often use box plot.\n",
    "\n",
    "This is the tutorial the article I follow mentions [ towards data science](https://towardsdatascience.com/ways-to-detect-and-remove-the-outliers-404d16608dba)."
   ]
  },
  {
   "cell_type": "code",
   "execution_count": 27,
   "metadata": {},
   "outputs": [
    {
     "data": {
      "text/plain": [
       "<AxesSubplot: xlabel='Active'>"
      ]
     },
     "execution_count": 27,
     "metadata": {},
     "output_type": "execute_result"
    },
    {
     "data": {
      "image/png": "[encoded data removed]",
      "text/plain": [
       "<Figure size 640x480 with 1 Axes>"
      ]
     },
     "metadata": {},
     "output_type": "display_data"
    }
   ],
   "source": [
    "sns.boxplot(x=data['Active'])"
   ]
  },
  {
   "cell_type": "code",
   "execution_count": 17,
   "metadata": {},
   "outputs": [
    {
     "data": {
      "text/plain": [
       "<AxesSubplot: xlabel='DeathPer100'>"
      ]
     },
     "execution_count": 17,
     "metadata": {},
     "output_type": "execute_result"
    },
    {
     "data": {
      "image/png": "[encoded data removed]",
      "text/plain": [
       "<Figure size 640x480 with 1 Axes>"
      ]
     },
     "metadata": {},
     "output_type": "display_data"
    }
   ],
   "source": [
    "sns.boxplot(x=data['DeathPer100'])"
   ]
  },
  {
   "cell_type": "code",
   "execution_count": 18,
   "metadata": {},
   "outputs": [
    {
     "name": "stdout",
     "output_type": "stream",
     "text": [
      "Confirmed                 39346.500\n",
      "Deaths                      715.500\n",
      "Recovered                 21979.500\n",
      "Active                     9007.500\n",
      "New cases                   415.500\n",
      "New deaths                    6.000\n",
      "New recovered               221.000\n",
      "DeathPer100                   2.930\n",
      "Recovered/100                38.115\n",
      "Deaths / 100 Recovered        4.990\n",
      "dtype: float64\n"
     ]
    },
    {
     "name": "stderr",
     "output_type": "stream",
     "text": [
      "C:\\Users\\mat_t\\AppData\\Local\\Temp\\ipykernel_29184\\3641630303.py:1: FutureWarning: The default value of numeric_only in DataFrame.quantile is deprecated. In a future version, it will default to False. Select only valid columns or specify the value of numeric_only to silence this warning.\n",
      "  Q1 = data.quantile(0.25)\n",
      "C:\\Users\\mat_t\\AppData\\Local\\Temp\\ipykernel_29184\\3641630303.py:2: FutureWarning: The default value of numeric_only in DataFrame.quantile is deprecated. In a future version, it will default to False. Select only valid columns or specify the value of numeric_only to silence this warning.\n",
      "  Q3 = data.quantile(0.75)\n"
     ]
    }
   ],
   "source": [
    "Q1 = data.quantile(0.25)\n",
    "Q3 = data.quantile(0.75)\n",
    "IQR = Q3 - Q1\n",
    "print(IQR)"
   ]
  },
  {
   "cell_type": "code",
   "execution_count": 19,
   "metadata": {},
   "outputs": [
    {
     "name": "stderr",
     "output_type": "stream",
     "text": [
      "C:\\Users\\mat_t\\AppData\\Local\\Temp\\ipykernel_29184\\759714364.py:1: FutureWarning: Automatic reindexing on DataFrame vs Series comparisons is deprecated and will raise ValueError in a future version. Do `left, right = left.align(right, axis=1, copy=False)` before e.g. `left == right`\n",
      "  data = data[~((data < (Q1 - 1.5 * IQR))| (data > (Q3 + 1.5 * IQR))).any (axis=1)]\n"
     ]
    },
    {
     "data": {
      "text/plain": [
       "(127, 11)"
      ]
     },
     "execution_count": 19,
     "metadata": {},
     "output_type": "execute_result"
    }
   ],
   "source": [
    "data = data[~((data < (Q1 - 1.5 * IQR))| (data > (Q3 + 1.5 * IQR))).any (axis=1)]\n",
    "data.shape"
   ]
  },
  {
   "attachments": {},
   "cell_type": "markdown",
   "metadata": {},
   "source": [
    "---"
   ]
  },
  {
   "attachments": {},
   "cell_type": "markdown",
   "metadata": {},
   "source": [
    "## 9. Different types of plots\n",
    "\n",
    "9.1 Histogram\n",
    "9.2 Heat Maps\n",
    "9.3 Scatterplot"
   ]
  },
  {
   "attachments": {},
   "cell_type": "markdown",
   "metadata": {},
   "source": [
    "#### Histogram\n",
    "It plots values agains dataframe frequency. In another words, it refers to the frequency of occurance of variables in an interval."
   ]
  },
  {
   "cell_type": "code",
   "execution_count": 20,
   "metadata": {},
   "outputs": [
    {
     "data": {
      "text/plain": [
       "Text(0.5, 0, 'Price')"
      ]
     },
     "execution_count": 20,
     "metadata": {},
     "output_type": "execute_result"
    },
    {
     "data": {
      "image/png": "[encoded data removed]",
      "text/plain": [
       "<Figure size 1000x500 with 1 Axes>"
      ]
     },
     "metadata": {},
     "output_type": "display_data"
    }
   ],
   "source": [
    "data.Active.value_counts().nlargest(15).plot(kind='bar', figsize=(10,5))\n",
    "plt.title(\"Model\")\n",
    "plt.ylabel('N Of Price Repetition')\n",
    "plt.xlabel('Price')"
   ]
  },
  {
   "attachments": {},
   "cell_type": "markdown",
   "metadata": {},
   "source": [
    "#### Heat Maps\n",
    "\n",
    "Heat Maps are a great way to identify dependent variables. To find relationship between the features, we plot the dataframe in heat maps."
   ]
  },
  {
   "cell_type": "code",
   "execution_count": 21,
   "metadata": {},
   "outputs": [
    {
     "name": "stderr",
     "output_type": "stream",
     "text": [
      "C:\\Users\\mat_t\\AppData\\Local\\Temp\\ipykernel_29184\\3153548125.py:2: FutureWarning: The default value of numeric_only in DataFrame.corr is deprecated. In a future version, it will default to False. Select only valid columns or specify the value of numeric_only to silence this warning.\n",
      "  c=data.corr()\n"
     ]
    },
    {
     "data": {
      "text/html": [
       "<div>\n",
       "<style scoped>\n",
       "    .dataframe tbody tr th:only-of-type {\n",
       "        vertical-align: middle;\n",
       "    }\n",
       "\n",
       "    .dataframe tbody tr th {\n",
       "        vertical-align: top;\n",
       "    }\n",
       "\n",
       "    .dataframe thead th {\n",
       "        text-align: right;\n",
       "    }\n",
       "</style>\n",
       "<table border=\"1\" class=\"dataframe\">\n",
       "  <thead>\n",
       "    <tr style=\"text-align: right;\">\n",
       "      <th></th>\n",
       "      <th>Confirmed</th>\n",
       "      <th>Deaths</th>\n",
       "      <th>Recovered</th>\n",
       "      <th>Active</th>\n",
       "      <th>New cases</th>\n",
       "      <th>New deaths</th>\n",
       "      <th>New recovered</th>\n",
       "      <th>DeathPer100</th>\n",
       "      <th>Recovered/100</th>\n",
       "      <th>Deaths / 100 Recovered</th>\n",
       "    </tr>\n",
       "  </thead>\n",
       "  <tbody>\n",
       "    <tr>\n",
       "      <th>Confirmed</th>\n",
       "      <td>1.000000</td>\n",
       "      <td>0.705533</td>\n",
       "      <td>0.980661</td>\n",
       "      <td>0.765415</td>\n",
       "      <td>0.599191</td>\n",
       "      <td>0.391801</td>\n",
       "      <td>0.610176</td>\n",
       "      <td>0.025118</td>\n",
       "      <td>0.085377</td>\n",
       "      <td>-0.045702</td>\n",
       "    </tr>\n",
       "    <tr>\n",
       "      <th>Deaths</th>\n",
       "      <td>0.705533</td>\n",
       "      <td>1.000000</td>\n",
       "      <td>0.650506</td>\n",
       "      <td>0.622372</td>\n",
       "      <td>0.293618</td>\n",
       "      <td>0.399777</td>\n",
       "      <td>0.298653</td>\n",
       "      <td>0.353322</td>\n",
       "      <td>0.059448</td>\n",
       "      <td>0.217258</td>\n",
       "    </tr>\n",
       "    <tr>\n",
       "      <th>Recovered</th>\n",
       "      <td>0.980661</td>\n",
       "      <td>0.650506</td>\n",
       "      <td>1.000000</td>\n",
       "      <td>0.625589</td>\n",
       "      <td>0.525357</td>\n",
       "      <td>0.267202</td>\n",
       "      <td>0.579928</td>\n",
       "      <td>0.018375</td>\n",
       "      <td>0.180975</td>\n",
       "      <td>-0.087829</td>\n",
       "    </tr>\n",
       "    <tr>\n",
       "      <th>Active</th>\n",
       "      <td>0.765415</td>\n",
       "      <td>0.622372</td>\n",
       "      <td>0.625589</td>\n",
       "      <td>1.000000</td>\n",
       "      <td>0.684424</td>\n",
       "      <td>0.682195</td>\n",
       "      <td>0.544739</td>\n",
       "      <td>0.001755</td>\n",
       "      <td>-0.264077</td>\n",
       "      <td>0.082007</td>\n",
       "    </tr>\n",
       "    <tr>\n",
       "      <th>New cases</th>\n",
       "      <td>0.599191</td>\n",
       "      <td>0.293618</td>\n",
       "      <td>0.525357</td>\n",
       "      <td>0.684424</td>\n",
       "      <td>1.000000</td>\n",
       "      <td>0.586257</td>\n",
       "      <td>0.636500</td>\n",
       "      <td>-0.103869</td>\n",
       "      <td>-0.173672</td>\n",
       "      <td>-0.018375</td>\n",
       "    </tr>\n",
       "    <tr>\n",
       "      <th>New deaths</th>\n",
       "      <td>0.391801</td>\n",
       "      <td>0.399777</td>\n",
       "      <td>0.267202</td>\n",
       "      <td>0.682195</td>\n",
       "      <td>0.586257</td>\n",
       "      <td>1.000000</td>\n",
       "      <td>0.422178</td>\n",
       "      <td>0.078274</td>\n",
       "      <td>-0.266368</td>\n",
       "      <td>0.177430</td>\n",
       "    </tr>\n",
       "    <tr>\n",
       "      <th>New recovered</th>\n",
       "      <td>0.610176</td>\n",
       "      <td>0.298653</td>\n",
       "      <td>0.579928</td>\n",
       "      <td>0.544739</td>\n",
       "      <td>0.636500</td>\n",
       "      <td>0.422178</td>\n",
       "      <td>1.000000</td>\n",
       "      <td>-0.057714</td>\n",
       "      <td>-0.041078</td>\n",
       "      <td>-0.049177</td>\n",
       "    </tr>\n",
       "    <tr>\n",
       "      <th>DeathPer100</th>\n",
       "      <td>0.025118</td>\n",
       "      <td>0.353322</td>\n",
       "      <td>0.018375</td>\n",
       "      <td>0.001755</td>\n",
       "      <td>-0.103869</td>\n",
       "      <td>0.078274</td>\n",
       "      <td>-0.057714</td>\n",
       "      <td>1.000000</td>\n",
       "      <td>0.093124</td>\n",
       "      <td>0.768811</td>\n",
       "    </tr>\n",
       "    <tr>\n",
       "      <th>Recovered/100</th>\n",
       "      <td>0.085377</td>\n",
       "      <td>0.059448</td>\n",
       "      <td>0.180975</td>\n",
       "      <td>-0.264077</td>\n",
       "      <td>-0.173672</td>\n",
       "      <td>-0.266368</td>\n",
       "      <td>-0.041078</td>\n",
       "      <td>0.093124</td>\n",
       "      <td>1.000000</td>\n",
       "      <td>-0.418411</td>\n",
       "    </tr>\n",
       "    <tr>\n",
       "      <th>Deaths / 100 Recovered</th>\n",
       "      <td>-0.045702</td>\n",
       "      <td>0.217258</td>\n",
       "      <td>-0.087829</td>\n",
       "      <td>0.082007</td>\n",
       "      <td>-0.018375</td>\n",
       "      <td>0.177430</td>\n",
       "      <td>-0.049177</td>\n",
       "      <td>0.768811</td>\n",
       "      <td>-0.418411</td>\n",
       "      <td>1.000000</td>\n",
       "    </tr>\n",
       "  </tbody>\n",
       "</table>\n",
       "</div>"
      ],
      "text/plain": [
       "                        Confirmed    Deaths  Recovered    Active  New cases  \\\n",
       "Confirmed                1.000000  0.705533   0.980661  0.765415   0.599191   \n",
       "Deaths                   0.705533  1.000000   0.650506  0.622372   0.293618   \n",
       "Recovered                0.980661  0.650506   1.000000  0.625589   0.525357   \n",
       "Active                   0.765415  0.622372   0.625589  1.000000   0.684424   \n",
       "New cases                0.599191  0.293618   0.525357  0.684424   1.000000   \n",
       "New deaths               0.391801  0.399777   0.267202  0.682195   0.586257   \n",
       "New recovered            0.610176  0.298653   0.579928  0.544739   0.636500   \n",
       "DeathPer100              0.025118  0.353322   0.018375  0.001755  -0.103869   \n",
       "Recovered/100            0.085377  0.059448   0.180975 -0.264077  -0.173672   \n",
       "Deaths / 100 Recovered  -0.045702  0.217258  -0.087829  0.082007  -0.018375   \n",
       "\n",
       "                        New deaths  New recovered  DeathPer100  Recovered/100  \\\n",
       "Confirmed                 0.391801       0.610176     0.025118       0.085377   \n",
       "Deaths                    0.399777       0.298653     0.353322       0.059448   \n",
       "Recovered                 0.267202       0.579928     0.018375       0.180975   \n",
       "Active                    0.682195       0.544739     0.001755      -0.264077   \n",
       "New cases                 0.586257       0.636500    -0.103869      -0.173672   \n",
       "New deaths                1.000000       0.422178     0.078274      -0.266368   \n",
       "New recovered             0.422178       1.000000    -0.057714      -0.041078   \n",
       "DeathPer100               0.078274      -0.057714     1.000000       0.093124   \n",
       "Recovered/100            -0.266368      -0.041078     0.093124       1.000000   \n",
       "Deaths / 100 Recovered    0.177430      -0.049177     0.768811      -0.418411   \n",
       "\n",
       "                        Deaths / 100 Recovered  \n",
       "Confirmed                            -0.045702  \n",
       "Deaths                                0.217258  \n",
       "Recovered                            -0.087829  \n",
       "Active                                0.082007  \n",
       "New cases                            -0.018375  \n",
       "New deaths                            0.177430  \n",
       "New recovered                        -0.049177  \n",
       "DeathPer100                           0.768811  \n",
       "Recovered/100                        -0.418411  \n",
       "Deaths / 100 Recovered                1.000000  "
      ]
     },
     "execution_count": 21,
     "metadata": {},
     "output_type": "execute_result"
    },
    {
     "data": {
      "image/png": "[encoded data removed]",
      "text/plain": [
       "<Figure size 1000x500 with 2 Axes>"
      ]
     },
     "metadata": {},
     "output_type": "display_data"
    }
   ],
   "source": [
    "plt.figure(figsize=(10,5))\n",
    "c=data.corr()\n",
    "sns.heatmap(c,cmap=\"BrBG\",annot=True)\n",
    "c"
   ]
  },
  {
   "attachments": {},
   "cell_type": "markdown",
   "metadata": {},
   "source": [
    "As you can see, because all numbers are close to 1, it rounds up in the image, but the heat scale demonstrates where we can find it."
   ]
  },
  {
   "attachments": {},
   "cell_type": "markdown",
   "metadata": {},
   "source": [
    "#### Scatterplot\n",
    "\n",
    "This type of plot is generally used to identify correlation between variables.\n",
    "\n",
    "Let's plot Highest Biding Price and Highest Asking Price."
   ]
  },
  {
   "cell_type": "code",
   "execution_count": 22,
   "metadata": {},
   "outputs": [
    {
     "data": {
      "image/png": "[encoded data removed]",
      "text/plain": [
       "<Figure size 1000x500 with 1 Axes>"
      ]
     },
     "metadata": {},
     "output_type": "display_data"
    }
   ],
   "source": [
    "fig, ax = plt.subplots(figsize=(10,5))\n",
    "ax.scatter(data['Confirmed'], data['Deaths'])\n",
    "ax.set_xlabel('X')\n",
    "ax.set_ylabel('Y')\n",
    "plt.show()"
   ]
  },
  {
   "attachments": {},
   "cell_type": "markdown",
   "metadata": {},
   "source": [
    "---"
   ]
  },
  {
   "attachments": {},
   "cell_type": "markdown",
   "metadata": {},
   "source": [
    "These are some examples of EDA."
   ]
  }
 ],
 "metadata": {
  "kernelspec": {
   "display_name": "Python 3",
   "language": "python",
   "name": "python3"
  },
  "language_info": {
   "codemirror_mode": {
    "name": "ipython",
    "version": 3
   },
   "file_extension": ".py",
   "mimetype": "text/x-python",
   "name": "python",
   "nbconvert_exporter": "python",
   "pygments_lexer": "ipython3",
   "version": "3.11.1"
  },
  "orig_nbformat": 4,
  "vscode": {
   "interpreter": {
    "hash": "cc2acdaba4df38da22d722c8d61c3d22219ef6151ed27e966375424736be6eae"
   }
  }
 },
 "nbformat": 4,
 "nbformat_minor": 2
}
